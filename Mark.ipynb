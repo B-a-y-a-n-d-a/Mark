{
 "cells": [
  {
   "cell_type": "code",
   "execution_count": 143,
   "id": "2279a42b",
   "metadata": {},
   "outputs": [],
   "source": [
    "import pandas as pd\n",
    "import spacy"
   ]
  },
  {
   "cell_type": "code",
   "execution_count": 144,
   "id": "e581a81b",
   "metadata": {},
   "outputs": [],
   "source": [
    "nlp = spacy.load(\"en_core_web_sm\")"
   ]
  },
  {
   "cell_type": "code",
   "execution_count": 145,
   "id": "ed5b8fb9",
   "metadata": {},
   "outputs": [],
   "source": [
    "#Using Spacy(Open source NLP library) to compare student answers with memo answers\n",
    "def spacy_similarity(Answer_student,answer_memo,threshold=0.6\n",
    "):\n",
    "   student_response = nlp(Answer_student)\n",
    "   memo_response = nlp(answer_memo)\n",
    "   similarity = student_response.similarity(memo_response)\n",
    "   return 2 if similarity >= threshold else 0 "
   ]
  },
  {
   "cell_type": "code",
   "execution_count": 146,
   "id": "3ce9ee19",
   "metadata": {},
   "outputs": [],
   "source": [
    "#Read the Excel file that has student Answers\n",
    "Studentscript = pd.read_excel(\"StudentScript.xlsx\", sheet_name=\"Sheet1\")\n",
    "\n",
    "#Read the Excel file that has the correct Answers\n",
    "Memo = pd.read_excel(\"Memo.xlsx\", sheet_name=\"Sheet1\")"
   ]
  },
  {
   "cell_type": "code",
   "execution_count": 147,
   "id": "7040888f",
   "metadata": {},
   "outputs": [],
   "source": [
    "#Merge the two dataframes\n",
    "Compare = pd.merge(Studentscript, Memo, on=\"QuestionNumber\", suffixes=('_Student', '_Memo'))\n",
    "#Compare['Mark']= Compare.apply(lambda row: 2 if row['Answers_Student'] == row['Answers_Memo'] else 0, axis=1)"
   ]
  },
  {
   "cell_type": "code",
   "execution_count": 148,
   "id": "a8ebf149",
   "metadata": {},
   "outputs": [],
   "source": [
    "#For the semantic evaluation using spacy(An open-sourse NLP library)\n",
    "#The evaluation kicks in if the response has greater than 7 characters\n",
    "def smart_marking(row):\n",
    "    if len(str(row['Answers_Student'])) > 7:\n",
    "        return spacy_similarity(row['Answers_Student'], row['Answers_Memo'])\n",
    "    else:\n",
    "        return 2 if row['Answers_Student'] == row['Answers_Memo'] else 0"
   ]
  },
  {
   "cell_type": "code",
   "execution_count": 149,
   "id": "ecf25b7e",
   "metadata": {},
   "outputs": [
    {
     "name": "stderr",
     "output_type": "stream",
     "text": [
      "C:\\Users\\rafey\\AppData\\Local\\Temp\\ipykernel_26884\\1076004353.py:6: UserWarning: [W007] The model you're using has no word vectors loaded, so the result of the Doc.similarity method will be based on the tagger, parser and NER, which may not give useful similarity judgements. This may happen if you're using one of the small models, e.g. `en_core_web_sm`, which don't ship with word vectors and only use context-sensitive tensors. You can always add your own word vectors, or use one of the larger models instead if available.\n",
      "  similarity = student_response.similarity(memo_response)\n"
     ]
    },
    {
     "data": {
      "text/html": [
       "<div>\n",
       "<style scoped>\n",
       "    .dataframe tbody tr th:only-of-type {\n",
       "        vertical-align: middle;\n",
       "    }\n",
       "\n",
       "    .dataframe tbody tr th {\n",
       "        vertical-align: top;\n",
       "    }\n",
       "\n",
       "    .dataframe thead th {\n",
       "        text-align: right;\n",
       "    }\n",
       "</style>\n",
       "<table border=\"1\" class=\"dataframe\">\n",
       "  <thead>\n",
       "    <tr style=\"text-align: right;\">\n",
       "      <th></th>\n",
       "      <th>QuestionNumber</th>\n",
       "      <th>Answers_Student</th>\n",
       "      <th>Answers_Memo</th>\n",
       "      <th>Mark</th>\n",
       "    </tr>\n",
       "  </thead>\n",
       "  <tbody>\n",
       "    <tr>\n",
       "      <th>0</th>\n",
       "      <td>1</td>\n",
       "      <td>A</td>\n",
       "      <td>A</td>\n",
       "      <td>2</td>\n",
       "    </tr>\n",
       "    <tr>\n",
       "      <th>1</th>\n",
       "      <td>2</td>\n",
       "      <td>B</td>\n",
       "      <td>B</td>\n",
       "      <td>2</td>\n",
       "    </tr>\n",
       "    <tr>\n",
       "      <th>2</th>\n",
       "      <td>3</td>\n",
       "      <td>Learn</td>\n",
       "      <td>Telkom</td>\n",
       "      <td>0</td>\n",
       "    </tr>\n",
       "    <tr>\n",
       "      <th>3</th>\n",
       "      <td>4</td>\n",
       "      <td>TUT</td>\n",
       "      <td>Marking App</td>\n",
       "      <td>0</td>\n",
       "    </tr>\n",
       "    <tr>\n",
       "      <th>4</th>\n",
       "      <td>5</td>\n",
       "      <td>The capital of France is Paris</td>\n",
       "      <td>Paris is the capital city of France.</td>\n",
       "      <td>2</td>\n",
       "    </tr>\n",
       "    <tr>\n",
       "      <th>5</th>\n",
       "      <td>6</td>\n",
       "      <td>We will win the competition</td>\n",
       "      <td>The competition will be won by us.</td>\n",
       "      <td>0</td>\n",
       "    </tr>\n",
       "    <tr>\n",
       "      <th>6</th>\n",
       "      <td>7</td>\n",
       "      <td>The Capital city of South Africa is Pretoria</td>\n",
       "      <td>Pretoria</td>\n",
       "      <td>0</td>\n",
       "    </tr>\n",
       "  </tbody>\n",
       "</table>\n",
       "</div>"
      ],
      "text/plain": [
       "   QuestionNumber                               Answers_Student  \\\n",
       "0               1                                             A   \n",
       "1               2                                             B   \n",
       "2               3                                         Learn   \n",
       "3               4                                           TUT   \n",
       "4               5                The capital of France is Paris   \n",
       "5               6                   We will win the competition   \n",
       "6               7  The Capital city of South Africa is Pretoria   \n",
       "\n",
       "                           Answers_Memo  Mark  \n",
       "0                                     A     2  \n",
       "1                                     B     2  \n",
       "2                                Telkom     0  \n",
       "3                           Marking App     0  \n",
       "4  Paris is the capital city of France.     2  \n",
       "5    The competition will be won by us.     0  \n",
       "6                              Pretoria     0  "
      ]
     },
     "execution_count": 149,
     "metadata": {},
     "output_type": "execute_result"
    }
   ],
   "source": [
    "#Compare['Mark']= Compare.apply(lambda row: 2 if row['Answers_Student'] == row['Answers_Memo'] else 0, axis=1)\n",
    "Compare['Mark'] = Compare.apply(smart_marking, axis=1)\n",
    "Compare"
   ]
  },
  {
   "cell_type": "code",
   "execution_count": 150,
   "id": "c4012796",
   "metadata": {},
   "outputs": [],
   "source": [
    "#Save the results to an Excel file\n",
    "Compare.to_excel(\"Marking.xlsx\", index=False)"
   ]
  }
 ],
 "metadata": {
  "kernelspec": {
   "display_name": "Python 3",
   "language": "python",
   "name": "python3"
  },
  "language_info": {
   "codemirror_mode": {
    "name": "ipython",
    "version": 3
   },
   "file_extension": ".py",
   "mimetype": "text/x-python",
   "name": "python",
   "nbconvert_exporter": "python",
   "pygments_lexer": "ipython3",
   "version": "3.11.8"
  }
 },
 "nbformat": 4,
 "nbformat_minor": 5
}
