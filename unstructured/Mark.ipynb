{
 "cells": [
  {
   "cell_type": "code",
   "execution_count": 6,
   "id": "2279a42b",
   "metadata": {},
   "outputs": [],
   "source": [
    "import pandas as pd\n",
    "from datetime import datetime\n"
   ]
  },
  {
   "cell_type": "code",
   "execution_count": 8,
   "id": "3ce9ee19",
   "metadata": {},
   "outputs": [],
   "source": [
    "#Read the Excel file that has student Answers\n",
    "Studentscript = pd.read_excel(\"StudentScript.xlsx\", sheet_name=\"Sheet1\")\n",
    "\n",
    "#Read the Excel file that has the correct Answers\n",
    "Memo = pd.read_excel(\"Memo.xlsx\", sheet_name=\"Sheet1\")\n"
   ]
  },
  {
   "cell_type": "code",
   "execution_count": 9,
   "id": "7040888f",
   "metadata": {},
   "outputs": [],
   "source": [
    "#Merge the two dataframes\n",
    "Compare = pd.merge(Studentscript, Memo, on=\"QuestionNumber\", suffixes=('_Student', '_Memo')) "
   ]
  },
  {
   "cell_type": "code",
   "execution_count": 10,
   "id": "ecf25b7e",
   "metadata": {},
   "outputs": [],
   "source": [
    "Compare['Mark']= Compare.apply(lambda row: 2 if row['Answers_Student'] == row['Answers_Memo'] else 0, axis=1)"
   ]
  },
  {
   "cell_type": "code",
   "execution_count": 11,
   "id": "c4012796",
   "metadata": {},
   "outputs": [],
   "source": [
    "Compare.to_excel(\"Marking.xlsx\", index=False)"
   ]
  }
 ],
 "metadata": {
  "kernelspec": {
   "display_name": "Python 3",
   "language": "python",
   "name": "python3"
  },
  "language_info": {
   "codemirror_mode": {
    "name": "ipython",
    "version": 3
   },
   "file_extension": ".py",
   "mimetype": "text/x-python",
   "name": "python",
   "nbconvert_exporter": "python",
   "pygments_lexer": "ipython3",
   "version": "3.12.8"
  }
 },
 "nbformat": 4,
 "nbformat_minor": 5
}
