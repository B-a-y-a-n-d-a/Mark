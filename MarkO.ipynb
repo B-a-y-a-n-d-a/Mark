{
 "cells": [
  {
   "cell_type": "code",
   "execution_count": 147,
   "id": "2279a42b",
   "metadata": {},
   "outputs": [],
   "source": [
    "import pandas as pd\n",
    "import spacy\n",
    "from scispacy.abbreviation import AbbreviationDetector"
   ]
  },
  {
   "cell_type": "code",
   "execution_count": 148,
   "id": "e581a81b",
   "metadata": {},
   "outputs": [],
   "source": [
    "nlp = spacy.load(\"en_core_web_sm\")"
   ]
  },
  {
   "cell_type": "code",
   "execution_count": 149,
   "id": "9a1a6dd6",
   "metadata": {},
   "outputs": [
    {
     "data": {
      "text/plain": [
       "<scispacy.abbreviation.AbbreviationDetector at 0x1ca02fdde90>"
      ]
     },
     "execution_count": 149,
     "metadata": {},
     "output_type": "execute_result"
    }
   ],
   "source": [
    "#Add the abbreviation detector to the pipeline\n",
    "nlp.add_pipe(\"abbreviation_detector\")"
   ]
  },
  {
   "cell_type": "code",
   "execution_count": 150,
   "id": "2e745c7d",
   "metadata": {},
   "outputs": [],
   "source": [
    "def resolve_abbreviation(text):\n",
    "    doc = nlp(text)\n",
    "    mapping = {}\n",
    "    for abrv in doc._.abbreviations:\n",
    "# Resolve the abbreviation to its full form\n",
    "        mapping[str(abrv)]=str(abrv._.long_form)\n",
    "    replaced_text = text\n",
    "    for abrv, long_form in mapping.items():\n",
    "        replaced_text = replaced_text.replace(abrv, long_form)\n",
    "    return replaced_text"
   ]
  },
  {
   "cell_type": "code",
   "execution_count": 151,
   "id": "5185084f",
   "metadata": {},
   "outputs": [],
   "source": [
    "#Read the Excel file that has student Answers\n",
    "Studentscript = pd.read_excel(\"StudentScript.xlsx\", sheet_name=\"Sheet1\")\n",
    "\n",
    "#Read the Excel file that has the correct Answers\n",
    "Memo = pd.read_excel(\"Memo.xlsx\", sheet_name=\"Sheet1\")"
   ]
  },
  {
   "cell_type": "code",
   "execution_count": 152,
   "id": "db6c2a71",
   "metadata": {},
   "outputs": [],
   "source": [
    "#Merge the two dataframes\n",
    "Compare = pd.merge(Studentscript, Memo, on=\"QuestionNumber\", suffixes=('_Student', '_Memo'))\n",
    "#Compare['Mark']= Compare.apply(lambda row: 2 if row['Answers_Student'] == row['Answers_Memo'] else 0, axis=1)"
   ]
  },
  {
   "cell_type": "code",
   "execution_count": 153,
   "id": "34647766",
   "metadata": {},
   "outputs": [],
   "source": [
    "#Identify Entities that are similar in both student and memo answers\n",
    "def contains_named_entity_match(Answer_student, answer_memo):\n",
    "    \n",
    "    student_response = nlp(Answer_student)\n",
    "    memo_response = nlp(answer_memo)\n",
    "    \n",
    "    student_entities = {ent.text for ent in student_response.ents}\n",
    "    memo_entities = {ent.text for ent in memo_response.ents}\n",
    "    \n",
    "    return len(student_entities.intersection(memo_entities)) > 0"
   ]
  },
  {
   "cell_type": "code",
   "execution_count": 154,
   "id": "ed5b8fb9",
   "metadata": {},
   "outputs": [],
   "source": [
    "#Using Spacy(Open source NLP library) to compare student answers with memo answers\n",
    "def spacy_similarity(Answer_student,Answer_memo,threshold=0.6):\n",
    "   student_response = nlp(Answer_student)\n",
    "   memo_response = nlp(Answer_memo)\n",
    "   similarity = student_response.similarity(memo_response)\n",
    "   return 2 if similarity >= threshold else 0 "
   ]
  },
  {
   "cell_type": "code",
   "execution_count": 155,
   "id": "f3ef25bc",
   "metadata": {},
   "outputs": [],
   "source": [
    "#Combine the marking logic\n",
    "def combined_marking(Answer_student, Answer_memo, threshold=0.6):\n",
    "    \n",
    "    resolved_student = resolve_abbreviation(Answer_student)\n",
    "    resolved_memo = resolve_abbreviation(Answer_memo)\n",
    "    \n",
    "    if contains_named_entity_match(Answer_student, Answer_memo):\n",
    "        return 2\n",
    "    else:\n",
    "        return spacy_similarity(Answer_student, Answer_memo, threshold)"
   ]
  },
  {
   "cell_type": "code",
   "execution_count": 156,
   "id": "a8ebf149",
   "metadata": {},
   "outputs": [],
   "source": [
    "#For the semantic evaluation using spacy(An open-sourse NLP library)\n",
    "#The evaluation kicks in if the response has greater than 7 characters\n",
    "def smart_marking(row):\n",
    "    if len(str(row['Answers_Student'])) > 7:\n",
    "        return combined_marking(row['Answers_Student'], row['Answers_Memo'])\n",
    "    else:\n",
    "        return 2 if row['Answers_Student'] == row['Answers_Memo'] else 0"
   ]
  },
  {
   "cell_type": "code",
   "execution_count": null,
   "id": "ecf25b7e",
   "metadata": {},
   "outputs": [
    {
     "name": "stderr",
     "output_type": "stream",
     "text": [
      "c:\\Users\\rafey\\AppData\\Local\\Programs\\Python\\Python311\\Lib\\site-packages\\scispacy\\abbreviation.py:248: UserWarning: [W036] The component 'matcher' does not have any patterns defined.\n",
      "  global_matches = self.global_matcher(doc)\n",
      "C:\\Users\\rafey\\AppData\\Local\\Temp\\ipykernel_6892\\888248231.py:5: UserWarning: [W007] The model you're using has no word vectors loaded, so the result of the Doc.similarity method will be based on the tagger, parser and NER, which may not give useful similarity judgements. This may happen if you're using one of the small models, e.g. `en_core_web_sm`, which don't ship with word vectors and only use context-sensitive tensors. You can always add your own word vectors, or use one of the larger models instead if available.\n",
      "  similarity = student_response.similarity(memo_response)\n"
     ]
    },
    {
     "data": {
      "text/html": [
       "<div>\n",
       "<style scoped>\n",
       "    .dataframe tbody tr th:only-of-type {\n",
       "        vertical-align: middle;\n",
       "    }\n",
       "\n",
       "    .dataframe tbody tr th {\n",
       "        vertical-align: top;\n",
       "    }\n",
       "\n",
       "    .dataframe thead th {\n",
       "        text-align: right;\n",
       "    }\n",
       "</style>\n",
       "<table border=\"1\" class=\"dataframe\">\n",
       "  <thead>\n",
       "    <tr style=\"text-align: right;\">\n",
       "      <th></th>\n",
       "      <th>QuestionNumber</th>\n",
       "      <th>Answers_Student</th>\n",
       "      <th>Answers_Memo</th>\n",
       "      <th>Mark</th>\n",
       "    </tr>\n",
       "  </thead>\n",
       "  <tbody>\n",
       "    <tr>\n",
       "      <th>0</th>\n",
       "      <td>1</td>\n",
       "      <td>Artificial intelligence is important because i...</td>\n",
       "      <td>Artificial Intelligence has a wide-ranging imp...</td>\n",
       "      <td>0</td>\n",
       "    </tr>\n",
       "    <tr>\n",
       "      <th>1</th>\n",
       "      <td>2</td>\n",
       "      <td>Imaginative and often exaggerated portrayals i...</td>\n",
       "      <td>Artificial Intelligence is perceived as includ...</td>\n",
       "      <td>0</td>\n",
       "    </tr>\n",
       "    <tr>\n",
       "      <th>2</th>\n",
       "      <td>3</td>\n",
       "      <td>Artificial intelligence is a discipline in com...</td>\n",
       "      <td>Artificial intelligence is a discipline in com...</td>\n",
       "      <td>2</td>\n",
       "    </tr>\n",
       "    <tr>\n",
       "      <th>3</th>\n",
       "      <td>4</td>\n",
       "      <td>A</td>\n",
       "      <td>A</td>\n",
       "      <td>2</td>\n",
       "    </tr>\n",
       "    <tr>\n",
       "      <th>4</th>\n",
       "      <td>5</td>\n",
       "      <td>B</td>\n",
       "      <td>A</td>\n",
       "      <td>0</td>\n",
       "    </tr>\n",
       "    <tr>\n",
       "      <th>5</th>\n",
       "      <td>6</td>\n",
       "      <td>The Capital City of South Africa is Pretoria</td>\n",
       "      <td>Pretoria</td>\n",
       "      <td>2</td>\n",
       "    </tr>\n",
       "    <tr>\n",
       "      <th>6</th>\n",
       "      <td>7</td>\n",
       "      <td>To highlight/show the rapid growth of Artifici...</td>\n",
       "      <td>To highlight/show the rapid growth of Artifici...</td>\n",
       "      <td>2</td>\n",
       "    </tr>\n",
       "    <tr>\n",
       "      <th>7</th>\n",
       "      <td>8</td>\n",
       "      <td>The words suggest that using Artificial Intell...</td>\n",
       "      <td>The words suggest that using Artificial Intell...</td>\n",
       "      <td>2</td>\n",
       "    </tr>\n",
       "    <tr>\n",
       "      <th>8</th>\n",
       "      <td>9</td>\n",
       "      <td>S A</td>\n",
       "      <td>South Africa</td>\n",
       "      <td>0</td>\n",
       "    </tr>\n",
       "  </tbody>\n",
       "</table>\n",
       "</div>"
      ],
      "text/plain": [
       "   QuestionNumber                                    Answers_Student  \\\n",
       "0               1  Artificial intelligence is important because i...   \n",
       "1               2  Imaginative and often exaggerated portrayals i...   \n",
       "2               3  Artificial intelligence is a discipline in com...   \n",
       "3               4                                                  A   \n",
       "4               5                                                  B   \n",
       "5               6       The Capital City of South Africa is Pretoria   \n",
       "6               7  To highlight/show the rapid growth of Artifici...   \n",
       "7               8  The words suggest that using Artificial Intell...   \n",
       "8               9                                                S A   \n",
       "\n",
       "                                        Answers_Memo  Mark  \n",
       "0  Artificial Intelligence has a wide-ranging imp...     0  \n",
       "1  Artificial Intelligence is perceived as includ...     0  \n",
       "2  Artificial intelligence is a discipline in com...     2  \n",
       "3                                                  A     2  \n",
       "4                                                  A     0  \n",
       "5                                           Pretoria     2  \n",
       "6  To highlight/show the rapid growth of Artifici...     2  \n",
       "7  The words suggest that using Artificial Intell...     2  \n",
       "8                                       South Africa     0  "
      ]
     },
     "execution_count": 157,
     "metadata": {},
     "output_type": "execute_result"
    }
   ],
   "source": [
    "#Compare['Mark']= Compare.apply(lambda row: 2 if row['Answers_Student'] == row['Answers_Memo'] else 0, axis=1)\n",
    "Compare['Mark'] = Compare.apply(smart_marking, axis=1)"
   ]
  },
  {
   "cell_type": "code",
   "execution_count": 158,
   "id": "ba018780",
   "metadata": {},
   "outputs": [
    {
     "data": {
      "text/html": [
       "<div>\n",
       "<style scoped>\n",
       "    .dataframe tbody tr th:only-of-type {\n",
       "        vertical-align: middle;\n",
       "    }\n",
       "\n",
       "    .dataframe tbody tr th {\n",
       "        vertical-align: top;\n",
       "    }\n",
       "\n",
       "    .dataframe thead th {\n",
       "        text-align: right;\n",
       "    }\n",
       "</style>\n",
       "<table border=\"1\" class=\"dataframe\">\n",
       "  <thead>\n",
       "    <tr style=\"text-align: right;\">\n",
       "      <th></th>\n",
       "      <th>QuestionNumber</th>\n",
       "      <th>Answers_Student</th>\n",
       "      <th>Answers_Memo</th>\n",
       "      <th>Mark</th>\n",
       "    </tr>\n",
       "  </thead>\n",
       "  <tbody>\n",
       "    <tr>\n",
       "      <th>0</th>\n",
       "      <td>1</td>\n",
       "      <td>Artificial intelligence is important because i...</td>\n",
       "      <td>Artificial Intelligence has a wide-ranging imp...</td>\n",
       "      <td>0</td>\n",
       "    </tr>\n",
       "    <tr>\n",
       "      <th>1</th>\n",
       "      <td>2</td>\n",
       "      <td>Imaginative and often exaggerated portrayals i...</td>\n",
       "      <td>Artificial Intelligence is perceived as includ...</td>\n",
       "      <td>0</td>\n",
       "    </tr>\n",
       "    <tr>\n",
       "      <th>2</th>\n",
       "      <td>3</td>\n",
       "      <td>Artificial intelligence is a discipline in com...</td>\n",
       "      <td>Artificial intelligence is a discipline in com...</td>\n",
       "      <td>2</td>\n",
       "    </tr>\n",
       "    <tr>\n",
       "      <th>3</th>\n",
       "      <td>4</td>\n",
       "      <td>A</td>\n",
       "      <td>A</td>\n",
       "      <td>2</td>\n",
       "    </tr>\n",
       "    <tr>\n",
       "      <th>4</th>\n",
       "      <td>5</td>\n",
       "      <td>B</td>\n",
       "      <td>A</td>\n",
       "      <td>0</td>\n",
       "    </tr>\n",
       "    <tr>\n",
       "      <th>5</th>\n",
       "      <td>6</td>\n",
       "      <td>The Capital City of South Africa is Pretoria</td>\n",
       "      <td>Pretoria</td>\n",
       "      <td>2</td>\n",
       "    </tr>\n",
       "    <tr>\n",
       "      <th>6</th>\n",
       "      <td>7</td>\n",
       "      <td>To highlight/show the rapid growth of Artifici...</td>\n",
       "      <td>To highlight/show the rapid growth of Artifici...</td>\n",
       "      <td>2</td>\n",
       "    </tr>\n",
       "    <tr>\n",
       "      <th>7</th>\n",
       "      <td>8</td>\n",
       "      <td>The words suggest that using Artificial Intell...</td>\n",
       "      <td>The words suggest that using Artificial Intell...</td>\n",
       "      <td>2</td>\n",
       "    </tr>\n",
       "    <tr>\n",
       "      <th>8</th>\n",
       "      <td>9</td>\n",
       "      <td>S A</td>\n",
       "      <td>South Africa</td>\n",
       "      <td>0</td>\n",
       "    </tr>\n",
       "    <tr>\n",
       "      <th>Total</th>\n",
       "      <td></td>\n",
       "      <td></td>\n",
       "      <td></td>\n",
       "      <td>10</td>\n",
       "    </tr>\n",
       "  </tbody>\n",
       "</table>\n",
       "</div>"
      ],
      "text/plain": [
       "      QuestionNumber                                    Answers_Student  \\\n",
       "0                  1  Artificial intelligence is important because i...   \n",
       "1                  2  Imaginative and often exaggerated portrayals i...   \n",
       "2                  3  Artificial intelligence is a discipline in com...   \n",
       "3                  4                                                  A   \n",
       "4                  5                                                  B   \n",
       "5                  6       The Capital City of South Africa is Pretoria   \n",
       "6                  7  To highlight/show the rapid growth of Artifici...   \n",
       "7                  8  The words suggest that using Artificial Intell...   \n",
       "8                  9                                                S A   \n",
       "Total                                                                     \n",
       "\n",
       "                                            Answers_Memo  Mark  \n",
       "0      Artificial Intelligence has a wide-ranging imp...     0  \n",
       "1      Artificial Intelligence is perceived as includ...     0  \n",
       "2      Artificial intelligence is a discipline in com...     2  \n",
       "3                                                      A     2  \n",
       "4                                                      A     0  \n",
       "5                                               Pretoria     2  \n",
       "6      To highlight/show the rapid growth of Artifici...     2  \n",
       "7      The words suggest that using Artificial Intell...     2  \n",
       "8                                           South Africa     0  \n",
       "Total                                                       10  "
      ]
     },
     "execution_count": 158,
     "metadata": {},
     "output_type": "execute_result"
    }
   ],
   "source": [
    "#Add up the total marks\n",
    "total_marks = Compare['Mark'].sum()\n",
    "#Update the Compare DataFrame with the total marks\n",
    "Compare.loc['Total'] = ['','','',total_marks]\n",
    "Compare"
   ]
  },
  {
   "cell_type": "code",
   "execution_count": 159,
   "id": "c4012796",
   "metadata": {},
   "outputs": [],
   "source": [
    "#Save the results to an Excel file\n",
    "Compare.to_excel(\"Marking.xlsx\", index=False)"
   ]
  }
 ],
 "metadata": {
  "kernelspec": {
   "display_name": "Python 3",
   "language": "python",
   "name": "python3"
  },
  "language_info": {
   "codemirror_mode": {
    "name": "ipython",
    "version": 3
   },
   "file_extension": ".py",
   "mimetype": "text/x-python",
   "name": "python",
   "nbconvert_exporter": "python",
   "pygments_lexer": "ipython3",
   "version": "3.11.8"
  }
 },
 "nbformat": 4,
 "nbformat_minor": 5
}
